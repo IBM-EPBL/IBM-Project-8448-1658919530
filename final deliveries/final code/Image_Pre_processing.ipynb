{
  "cells": [
    {
      "cell_type": "markdown",
      "id": "ca2a99db",
      "metadata": {
        "id": "ca2a99db"
      },
      "source": [
        "# Image Processing "
      ]
    },
    {
      "cell_type": "code",
      "execution_count": null,
      "id": "c5de0aae",
      "metadata": {
        "id": "c5de0aae"
      },
      "outputs": [],
      "source": [
        "from keras.preprocessing.image import ImageDataGenerator"
      ]
    },
    {
      "cell_type": "code",
      "execution_count": null,
      "id": "7cb612f6",
      "metadata": {
        "id": "7cb612f6"
      },
      "outputs": [],
      "source": [
        "train_datagen = ImageDataGenerator (rescale = 1./255, shear_range= 0.2,zoom_range= 0.2, horizontal_flip = True)"
      ]
    },
    {
      "cell_type": "code",
      "execution_count": null,
      "id": "8af434e2",
      "metadata": {
        "id": "8af434e2"
      },
      "outputs": [],
      "source": [
        "test_datagen =ImageDataGenerator (rescale = 1)"
      ]
    },
    {
      "cell_type": "code",
      "execution_count": null,
      "id": "624e58e2",
      "metadata": {
        "id": "624e58e2",
        "outputId": "711b1efc-8b57-40de-ebd6-475332eede9f"
      },
      "outputs": [
        {
          "name": "stdout",
          "output_type": "stream",
          "text": [
            "Found 1686 images belonging to 6 classes.\n",
            "Found 5384 images belonging to 6 classes.\n"
          ]
        }
      ],
      "source": [
        "x_train = train_datagen.flow_from_directory(r'C:\\Users\\heena\\Desktop\\FILES\\data_for_ibm\\Fertilizers_Recommendation_ System_For_Disease_ Prediction\\Dataset Plant Disease\\fruit-dataset\\fruit-dataset\\test',target_size = (128,128), batch_size = 32, class_mode = 'categorical')\n",
        "x_test = test_datagen.flow_from_directory(r'C:\\Users\\heena\\Desktop\\FILES\\data_for_ibm\\Fertilizers_Recommendation_ System_For_Disease_ Prediction\\Dataset Plant Disease\\fruit-dataset\\fruit-dataset\\train',target_size = (128,128), batch_size = 32, class_mode = 'categorical')"
      ]
    },
    {
      "cell_type": "code",
      "execution_count": null,
      "id": "aecb50e7",
      "metadata": {
        "id": "aecb50e7",
        "outputId": "ab1a24f6-9a89-43bc-f64e-3e8372e454aa"
      },
      "outputs": [
        {
          "name": "stdout",
          "output_type": "stream",
          "text": [
            "Found 3416 images belonging to 9 classes.\n",
            "Found 3416 images belonging to 9 classes.\n"
          ]
        }
      ],
      "source": [
        "x_train = train_datagen.flow_from_directory(r'C:\\Users\\heena\\Desktop\\FILES\\data_for_ibm\\Fertilizers_Recommendation_ System_For_Disease_ Prediction\\Dataset Plant Disease\\Veg-dataset\\Veg-dataset\\test_set',target_size = (128,128), batch_size = 32, class_mode = 'categorical')\n",
        "x_test = test_datagen.flow_from_directory(r'C:\\Users\\heena\\Desktop\\FILES\\data_for_ibm\\Fertilizers_Recommendation_ System_For_Disease_ Prediction\\Dataset Plant Disease\\Veg-dataset\\Veg-dataset\\test_set',target_size = (128,128), batch_size = 32, class_mode = 'categorical')"
      ]
    }
  ],
  "metadata": {
    "kernelspec": {
      "display_name": "Python 3 (ipykernel)",
      "language": "python",
      "name": "python3"
    },
    "language_info": {
      "codemirror_mode": {
        "name": "ipython",
        "version": 3
      },
      "file_extension": ".py",
      "mimetype": "text/x-python",
      "name": "python",
      "nbconvert_exporter": "python",
      "pygments_lexer": "ipython3",
      "version": "3.9.12"
    },
    "colab": {
      "provenance": []
    }
  },
  "nbformat": 4,
  "nbformat_minor": 5
}